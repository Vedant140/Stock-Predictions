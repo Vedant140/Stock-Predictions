{
 "cells": [
  {
   "cell_type": "code",
   "execution_count": 1,
   "metadata": {},
   "outputs": [],
   "source": [
    "import numpy as np\n",
    "import pandas as pd\n",
    "import matplotlib.pyplot as plt\n",
    "import pandas_datareader as data\n",
    "import plotly.graph_objs as go\n",
    "import yfinance as yf\n",
    "start='1980-01-01'\n",
    "end='2023-01-01'"
   ]
  },
  {
   "cell_type": "code",
   "execution_count": 3,
   "metadata": {},
   "outputs": [
    {
     "name": "stdout",
     "output_type": "stream",
     "text": [
      "[*********************100%***********************]  1 of 1 completed\n"
     ]
    },
    {
     "data": {
      "text/html": [
       "<div>\n",
       "<style scoped>\n",
       "    .dataframe tbody tr th:only-of-type {\n",
       "        vertical-align: middle;\n",
       "    }\n",
       "\n",
       "    .dataframe tbody tr th {\n",
       "        vertical-align: top;\n",
       "    }\n",
       "\n",
       "    .dataframe thead th {\n",
       "        text-align: right;\n",
       "    }\n",
       "</style>\n",
       "<table border=\"1\" class=\"dataframe\">\n",
       "  <thead>\n",
       "    <tr style=\"text-align: right;\">\n",
       "      <th></th>\n",
       "      <th>Open</th>\n",
       "      <th>High</th>\n",
       "      <th>Low</th>\n",
       "      <th>Close</th>\n",
       "      <th>Adj Close</th>\n",
       "      <th>Volume</th>\n",
       "    </tr>\n",
       "    <tr>\n",
       "      <th>Date</th>\n",
       "      <th></th>\n",
       "      <th></th>\n",
       "      <th></th>\n",
       "      <th></th>\n",
       "      <th></th>\n",
       "      <th></th>\n",
       "    </tr>\n",
       "  </thead>\n",
       "  <tbody>\n",
       "    <tr>\n",
       "      <th>2010-06-29</th>\n",
       "      <td>1.266667</td>\n",
       "      <td>1.666667</td>\n",
       "      <td>1.169333</td>\n",
       "      <td>1.592667</td>\n",
       "      <td>1.592667</td>\n",
       "      <td>281494500</td>\n",
       "    </tr>\n",
       "    <tr>\n",
       "      <th>2010-06-30</th>\n",
       "      <td>1.719333</td>\n",
       "      <td>2.028000</td>\n",
       "      <td>1.553333</td>\n",
       "      <td>1.588667</td>\n",
       "      <td>1.588667</td>\n",
       "      <td>257806500</td>\n",
       "    </tr>\n",
       "    <tr>\n",
       "      <th>2010-07-01</th>\n",
       "      <td>1.666667</td>\n",
       "      <td>1.728000</td>\n",
       "      <td>1.351333</td>\n",
       "      <td>1.464000</td>\n",
       "      <td>1.464000</td>\n",
       "      <td>123282000</td>\n",
       "    </tr>\n",
       "    <tr>\n",
       "      <th>2010-07-02</th>\n",
       "      <td>1.533333</td>\n",
       "      <td>1.540000</td>\n",
       "      <td>1.247333</td>\n",
       "      <td>1.280000</td>\n",
       "      <td>1.280000</td>\n",
       "      <td>77097000</td>\n",
       "    </tr>\n",
       "    <tr>\n",
       "      <th>2010-07-06</th>\n",
       "      <td>1.333333</td>\n",
       "      <td>1.333333</td>\n",
       "      <td>1.055333</td>\n",
       "      <td>1.074000</td>\n",
       "      <td>1.074000</td>\n",
       "      <td>103003500</td>\n",
       "    </tr>\n",
       "    <tr>\n",
       "      <th>...</th>\n",
       "      <td>...</td>\n",
       "      <td>...</td>\n",
       "      <td>...</td>\n",
       "      <td>...</td>\n",
       "      <td>...</td>\n",
       "      <td>...</td>\n",
       "    </tr>\n",
       "    <tr>\n",
       "      <th>2022-12-23</th>\n",
       "      <td>126.370003</td>\n",
       "      <td>128.619995</td>\n",
       "      <td>121.019997</td>\n",
       "      <td>123.150002</td>\n",
       "      <td>123.150002</td>\n",
       "      <td>166989700</td>\n",
       "    </tr>\n",
       "    <tr>\n",
       "      <th>2022-12-27</th>\n",
       "      <td>117.500000</td>\n",
       "      <td>119.669998</td>\n",
       "      <td>108.760002</td>\n",
       "      <td>109.099998</td>\n",
       "      <td>109.099998</td>\n",
       "      <td>208643400</td>\n",
       "    </tr>\n",
       "    <tr>\n",
       "      <th>2022-12-28</th>\n",
       "      <td>110.349998</td>\n",
       "      <td>116.269997</td>\n",
       "      <td>108.239998</td>\n",
       "      <td>112.709999</td>\n",
       "      <td>112.709999</td>\n",
       "      <td>221070500</td>\n",
       "    </tr>\n",
       "    <tr>\n",
       "      <th>2022-12-29</th>\n",
       "      <td>120.389999</td>\n",
       "      <td>123.570000</td>\n",
       "      <td>117.500000</td>\n",
       "      <td>121.820000</td>\n",
       "      <td>121.820000</td>\n",
       "      <td>221923300</td>\n",
       "    </tr>\n",
       "    <tr>\n",
       "      <th>2022-12-30</th>\n",
       "      <td>119.949997</td>\n",
       "      <td>124.480003</td>\n",
       "      <td>119.750000</td>\n",
       "      <td>123.180000</td>\n",
       "      <td>123.180000</td>\n",
       "      <td>157777300</td>\n",
       "    </tr>\n",
       "  </tbody>\n",
       "</table>\n",
       "<p>3150 rows × 6 columns</p>\n",
       "</div>"
      ],
      "text/plain": [
       "                  Open        High         Low       Close   Adj Close  \\\n",
       "Date                                                                     \n",
       "2010-06-29    1.266667    1.666667    1.169333    1.592667    1.592667   \n",
       "2010-06-30    1.719333    2.028000    1.553333    1.588667    1.588667   \n",
       "2010-07-01    1.666667    1.728000    1.351333    1.464000    1.464000   \n",
       "2010-07-02    1.533333    1.540000    1.247333    1.280000    1.280000   \n",
       "2010-07-06    1.333333    1.333333    1.055333    1.074000    1.074000   \n",
       "...                ...         ...         ...         ...         ...   \n",
       "2022-12-23  126.370003  128.619995  121.019997  123.150002  123.150002   \n",
       "2022-12-27  117.500000  119.669998  108.760002  109.099998  109.099998   \n",
       "2022-12-28  110.349998  116.269997  108.239998  112.709999  112.709999   \n",
       "2022-12-29  120.389999  123.570000  117.500000  121.820000  121.820000   \n",
       "2022-12-30  119.949997  124.480003  119.750000  123.180000  123.180000   \n",
       "\n",
       "               Volume  \n",
       "Date                   \n",
       "2010-06-29  281494500  \n",
       "2010-06-30  257806500  \n",
       "2010-07-01  123282000  \n",
       "2010-07-02   77097000  \n",
       "2010-07-06  103003500  \n",
       "...               ...  \n",
       "2022-12-23  166989700  \n",
       "2022-12-27  208643400  \n",
       "2022-12-28  221070500  \n",
       "2022-12-29  221923300  \n",
       "2022-12-30  157777300  \n",
       "\n",
       "[3150 rows x 6 columns]"
      ]
     },
     "execution_count": 3,
     "metadata": {},
     "output_type": "execute_result"
    }
   ],
   "source": [
    "df = yf.download(\"TSLA\", start=start, end=end)\n",
    "df"
   ]
  },
  {
   "cell_type": "code",
   "execution_count": 4,
   "metadata": {},
   "outputs": [],
   "source": [
    "df=df.reset_index()\n",
    "df=df.drop(['Date','Adj Close'],axis=1)"
   ]
  },
  {
   "cell_type": "code",
   "execution_count": 5,
   "metadata": {},
   "outputs": [
    {
     "data": {
      "text/plain": [
       "0              NaN\n",
       "1              NaN\n",
       "2              NaN\n",
       "3              NaN\n",
       "4              NaN\n",
       "           ...    \n",
       "3145    255.097317\n",
       "3146    254.317234\n",
       "3147    253.603501\n",
       "3148    252.876117\n",
       "3149    252.091634\n",
       "Name: Close, Length: 3150, dtype: float64"
      ]
     },
     "execution_count": 5,
     "metadata": {},
     "output_type": "execute_result"
    }
   ],
   "source": [
    "ma200 =df.Close.rolling(200).mean()\n",
    "ma200"
   ]
  },
  {
   "cell_type": "code",
   "execution_count": 6,
   "metadata": {},
   "outputs": [
    {
     "data": {
      "text/plain": [
       "[<matplotlib.lines.Line2D at 0x7f8017b77ac0>]"
      ]
     },
     "execution_count": 6,
     "metadata": {},
     "output_type": "execute_result"
    }
   ],
   "source": [
    "plt.figure(figsize=(12,6))\n",
    "plt.plot(df.Close)\n",
    "plt.plot(ma200)"
   ]
  },
  {
   "cell_type": "code",
   "execution_count": 7,
   "metadata": {},
   "outputs": [
    {
     "name": "stdout",
     "output_type": "stream",
     "text": [
      "(3150, 1)\n"
     ]
    }
   ],
   "source": [
    "train=pd.DataFrame(df['Close'])\n",
    "print(train.shape)"
   ]
  },
  {
   "cell_type": "code",
   "execution_count": 8,
   "metadata": {},
   "outputs": [
    {
     "name": "stdout",
     "output_type": "stream",
     "text": [
      "[*********************100%***********************]  1 of 1 completed\n"
     ]
    },
    {
     "data": {
      "text/html": [
       "<div>\n",
       "<style scoped>\n",
       "    .dataframe tbody tr th:only-of-type {\n",
       "        vertical-align: middle;\n",
       "    }\n",
       "\n",
       "    .dataframe tbody tr th {\n",
       "        vertical-align: top;\n",
       "    }\n",
       "\n",
       "    .dataframe thead th {\n",
       "        text-align: right;\n",
       "    }\n",
       "</style>\n",
       "<table border=\"1\" class=\"dataframe\">\n",
       "  <thead>\n",
       "    <tr style=\"text-align: right;\">\n",
       "      <th></th>\n",
       "      <th>Open</th>\n",
       "      <th>High</th>\n",
       "      <th>Low</th>\n",
       "      <th>Close</th>\n",
       "      <th>Adj Close</th>\n",
       "      <th>Volume</th>\n",
       "    </tr>\n",
       "    <tr>\n",
       "      <th>Datetime</th>\n",
       "      <th></th>\n",
       "      <th></th>\n",
       "      <th></th>\n",
       "      <th></th>\n",
       "      <th></th>\n",
       "      <th></th>\n",
       "    </tr>\n",
       "  </thead>\n",
       "  <tbody>\n",
       "    <tr>\n",
       "      <th>2023-07-11 09:30:00</th>\n",
       "      <td>268.649994</td>\n",
       "      <td>269.510010</td>\n",
       "      <td>267.230011</td>\n",
       "      <td>269.399811</td>\n",
       "      <td>269.399811</td>\n",
       "      <td>5335436</td>\n",
       "    </tr>\n",
       "    <tr>\n",
       "      <th>2023-07-11 09:35:00</th>\n",
       "      <td>269.359985</td>\n",
       "      <td>270.769989</td>\n",
       "      <td>269.179993</td>\n",
       "      <td>270.584412</td>\n",
       "      <td>270.584412</td>\n",
       "      <td>3129944</td>\n",
       "    </tr>\n",
       "    <tr>\n",
       "      <th>2023-07-11 09:40:00</th>\n",
       "      <td>270.601288</td>\n",
       "      <td>270.850006</td>\n",
       "      <td>267.959991</td>\n",
       "      <td>268.950012</td>\n",
       "      <td>268.950012</td>\n",
       "      <td>3281967</td>\n",
       "    </tr>\n",
       "    <tr>\n",
       "      <th>2023-07-11 09:45:00</th>\n",
       "      <td>268.910004</td>\n",
       "      <td>269.290009</td>\n",
       "      <td>267.799988</td>\n",
       "      <td>268.099915</td>\n",
       "      <td>268.099915</td>\n",
       "      <td>1983474</td>\n",
       "    </tr>\n",
       "    <tr>\n",
       "      <th>2023-07-11 09:50:00</th>\n",
       "      <td>268.087402</td>\n",
       "      <td>269.799988</td>\n",
       "      <td>267.609985</td>\n",
       "      <td>269.450104</td>\n",
       "      <td>269.450104</td>\n",
       "      <td>2182059</td>\n",
       "    </tr>\n",
       "    <tr>\n",
       "      <th>...</th>\n",
       "      <td>...</td>\n",
       "      <td>...</td>\n",
       "      <td>...</td>\n",
       "      <td>...</td>\n",
       "      <td>...</td>\n",
       "      <td>...</td>\n",
       "    </tr>\n",
       "    <tr>\n",
       "      <th>2023-07-17 13:30:00</th>\n",
       "      <td>286.450012</td>\n",
       "      <td>286.809998</td>\n",
       "      <td>286.450012</td>\n",
       "      <td>286.600006</td>\n",
       "      <td>286.600006</td>\n",
       "      <td>638094</td>\n",
       "    </tr>\n",
       "    <tr>\n",
       "      <th>2023-07-17 13:35:00</th>\n",
       "      <td>286.614288</td>\n",
       "      <td>286.989990</td>\n",
       "      <td>286.299988</td>\n",
       "      <td>286.359985</td>\n",
       "      <td>286.359985</td>\n",
       "      <td>915854</td>\n",
       "    </tr>\n",
       "    <tr>\n",
       "      <th>2023-07-17 13:40:00</th>\n",
       "      <td>286.379486</td>\n",
       "      <td>287.119995</td>\n",
       "      <td>286.363312</td>\n",
       "      <td>286.873688</td>\n",
       "      <td>286.873688</td>\n",
       "      <td>847986</td>\n",
       "    </tr>\n",
       "    <tr>\n",
       "      <th>2023-07-17 13:45:00</th>\n",
       "      <td>286.890015</td>\n",
       "      <td>287.450012</td>\n",
       "      <td>286.880005</td>\n",
       "      <td>287.235107</td>\n",
       "      <td>287.235107</td>\n",
       "      <td>603233</td>\n",
       "    </tr>\n",
       "    <tr>\n",
       "      <th>2023-07-17 13:49:31</th>\n",
       "      <td>287.362000</td>\n",
       "      <td>287.362000</td>\n",
       "      <td>287.362000</td>\n",
       "      <td>287.362000</td>\n",
       "      <td>287.362000</td>\n",
       "      <td>0</td>\n",
       "    </tr>\n",
       "  </tbody>\n",
       "</table>\n",
       "<p>365 rows × 6 columns</p>\n",
       "</div>"
      ],
      "text/plain": [
       "                           Open        High         Low       Close  \\\n",
       "Datetime                                                              \n",
       "2023-07-11 09:30:00  268.649994  269.510010  267.230011  269.399811   \n",
       "2023-07-11 09:35:00  269.359985  270.769989  269.179993  270.584412   \n",
       "2023-07-11 09:40:00  270.601288  270.850006  267.959991  268.950012   \n",
       "2023-07-11 09:45:00  268.910004  269.290009  267.799988  268.099915   \n",
       "2023-07-11 09:50:00  268.087402  269.799988  267.609985  269.450104   \n",
       "...                         ...         ...         ...         ...   \n",
       "2023-07-17 13:30:00  286.450012  286.809998  286.450012  286.600006   \n",
       "2023-07-17 13:35:00  286.614288  286.989990  286.299988  286.359985   \n",
       "2023-07-17 13:40:00  286.379486  287.119995  286.363312  286.873688   \n",
       "2023-07-17 13:45:00  286.890015  287.450012  286.880005  287.235107   \n",
       "2023-07-17 13:49:31  287.362000  287.362000  287.362000  287.362000   \n",
       "\n",
       "                      Adj Close   Volume  \n",
       "Datetime                                  \n",
       "2023-07-11 09:30:00  269.399811  5335436  \n",
       "2023-07-11 09:35:00  270.584412  3129944  \n",
       "2023-07-11 09:40:00  268.950012  3281967  \n",
       "2023-07-11 09:45:00  268.099915  1983474  \n",
       "2023-07-11 09:50:00  269.450104  2182059  \n",
       "...                         ...      ...  \n",
       "2023-07-17 13:30:00  286.600006   638094  \n",
       "2023-07-17 13:35:00  286.359985   915854  \n",
       "2023-07-17 13:40:00  286.873688   847986  \n",
       "2023-07-17 13:45:00  287.235107   603233  \n",
       "2023-07-17 13:49:31  287.362000        0  \n",
       "\n",
       "[365 rows x 6 columns]"
      ]
     },
     "execution_count": 8,
     "metadata": {},
     "output_type": "execute_result"
    }
   ],
   "source": [
    "test = yf.download(tickers='TSLA', period='5d', interval='5m')\n",
    "test"
   ]
  },
  {
   "cell_type": "code",
   "execution_count": 9,
   "metadata": {},
   "outputs": [
    {
     "name": "stdout",
     "output_type": "stream",
     "text": [
      "(365, 1)\n"
     ]
    }
   ],
   "source": [
    "test=test.reset_index()\n",
    "test=test.drop(['Datetime','Adj Close'],axis=1)\n",
    "test=pd.DataFrame(test['Close'])\n",
    "print(test.shape)"
   ]
  },
  {
   "cell_type": "code",
   "execution_count": 10,
   "metadata": {},
   "outputs": [
    {
     "data": {
      "text/plain": [
       "(3150, 1)"
      ]
     },
     "execution_count": 10,
     "metadata": {},
     "output_type": "execute_result"
    }
   ],
   "source": [
    "from sklearn.preprocessing import MinMaxScaler\n",
    "scaler=MinMaxScaler(feature_range=(0,1))\n",
    "train1=scaler.fit_transform(train)\n",
    "train1.shape"
   ]
  },
  {
   "cell_type": "code",
   "execution_count": 11,
   "metadata": {},
   "outputs": [],
   "source": [
    "x_train=[]\n",
    "y_train=[]\n",
    "\n",
    "for i in range(100,train1.shape[0]):\n",
    "    x_train.append(train1[i-100:i])\n",
    "    y_train.append(train1[i,0])\n",
    "    \n",
    "    \n",
    "x_train,y_train=np.array(x_train),np.array(y_train)"
   ]
  },
  {
   "cell_type": "code",
   "execution_count": 12,
   "metadata": {},
   "outputs": [
    {
     "data": {
      "text/plain": [
       "(3050, 100, 1)"
      ]
     },
     "execution_count": 12,
     "metadata": {},
     "output_type": "execute_result"
    }
   ],
   "source": [
    "x_train.shape"
   ]
  },
  {
   "cell_type": "code",
   "execution_count": 13,
   "metadata": {},
   "outputs": [],
   "source": [
    "from keras.layers import Dense,Dropout,LSTM\n",
    "from keras.models import Sequential\n",
    "\n",
    "model=Sequential()\n",
    "model.add(LSTM(units=50,activation='relu',return_sequences=True,input_shape=(x_train.shape[1],1)))\n",
    "model.add(Dropout(0.2))\n",
    "\n",
    "model.add(LSTM(units=60,activation='relu',return_sequences=True))\n",
    "model.add(Dropout(0.3))\n",
    "\n",
    "model.add(LSTM(units=70,activation='relu',return_sequences=True))\n",
    "model.add(Dropout(0.4))\n",
    "\n",
    "model.add(LSTM(units=90,activation='relu'))\n",
    "model.add(Dropout(0.5))\n",
    "\n",
    "model.add(Dense(units=1))\n"
   ]
  },
  {
   "cell_type": "code",
   "execution_count": 14,
   "metadata": {},
   "outputs": [
    {
     "name": "stdout",
     "output_type": "stream",
     "text": [
      "Model: \"sequential\"\n",
      "_________________________________________________________________\n",
      " Layer (type)                Output Shape              Param #   \n",
      "=================================================================\n",
      " lstm (LSTM)                 (None, 100, 50)           10400     \n",
      "                                                                 \n",
      " dropout (Dropout)           (None, 100, 50)           0         \n",
      "                                                                 \n",
      " lstm_1 (LSTM)               (None, 100, 60)           26640     \n",
      "                                                                 \n",
      " dropout_1 (Dropout)         (None, 100, 60)           0         \n",
      "                                                                 \n",
      " lstm_2 (LSTM)               (None, 100, 70)           36680     \n",
      "                                                                 \n",
      " dropout_2 (Dropout)         (None, 100, 70)           0         \n",
      "                                                                 \n",
      " lstm_3 (LSTM)               (None, 90)                57960     \n",
      "                                                                 \n",
      " dropout_3 (Dropout)         (None, 90)                0         \n",
      "                                                                 \n",
      " dense (Dense)               (None, 1)                 91        \n",
      "                                                                 \n",
      "=================================================================\n",
      "Total params: 131,771\n",
      "Trainable params: 131,771\n",
      "Non-trainable params: 0\n",
      "_________________________________________________________________\n"
     ]
    }
   ],
   "source": [
    "model.summary()"
   ]
  },
  {
   "cell_type": "code",
   "execution_count": 15,
   "metadata": {},
   "outputs": [
    {
     "name": "stdout",
     "output_type": "stream",
     "text": [
      "Epoch 1/50\n",
      "96/96 [==============================] - 25s 209ms/step - loss: 0.0127\n",
      "Epoch 2/50\n",
      "96/96 [==============================] - 20s 204ms/step - loss: 0.0051\n",
      "Epoch 3/50\n",
      "96/96 [==============================] - 20s 210ms/step - loss: 0.0038\n",
      "Epoch 4/50\n",
      "96/96 [==============================] - 26s 272ms/step - loss: 0.0037\n",
      "Epoch 5/50\n",
      "96/96 [==============================] - 25s 257ms/step - loss: 0.0036\n",
      "Epoch 6/50\n",
      "96/96 [==============================] - 21s 222ms/step - loss: 0.0034\n",
      "Epoch 7/50\n",
      "96/96 [==============================] - 26s 266ms/step - loss: 0.0030\n",
      "Epoch 8/50\n",
      "96/96 [==============================] - 21s 222ms/step - loss: 0.0033\n",
      "Epoch 9/50\n",
      "96/96 [==============================] - 24s 255ms/step - loss: 0.0028\n",
      "Epoch 10/50\n",
      "96/96 [==============================] - 21s 218ms/step - loss: 0.0032\n",
      "Epoch 11/50\n",
      "96/96 [==============================] - 23s 235ms/step - loss: 0.0030\n",
      "Epoch 12/50\n",
      "96/96 [==============================] - 21s 220ms/step - loss: 0.0029\n",
      "Epoch 13/50\n",
      "96/96 [==============================] - 23s 237ms/step - loss: 0.0028\n",
      "Epoch 14/50\n",
      "96/96 [==============================] - 22s 226ms/step - loss: 0.0025\n",
      "Epoch 15/50\n",
      "96/96 [==============================] - 23s 242ms/step - loss: 0.0026\n",
      "Epoch 16/50\n",
      "96/96 [==============================] - 20s 209ms/step - loss: 0.0033\n",
      "Epoch 17/50\n",
      "96/96 [==============================] - 20s 212ms/step - loss: 0.0025\n",
      "Epoch 18/50\n",
      "96/96 [==============================] - 25s 264ms/step - loss: 0.0027\n",
      "Epoch 19/50\n",
      "96/96 [==============================] - 22s 233ms/step - loss: 0.0027\n",
      "Epoch 20/50\n",
      "96/96 [==============================] - 22s 227ms/step - loss: 0.0026\n",
      "Epoch 21/50\n",
      "96/96 [==============================] - 19s 198ms/step - loss: 0.0024\n",
      "Epoch 22/50\n",
      "96/96 [==============================] - 23s 241ms/step - loss: 0.0023\n",
      "Epoch 23/50\n",
      "96/96 [==============================] - 23s 242ms/step - loss: 0.0024\n",
      "Epoch 24/50\n",
      "96/96 [==============================] - 22s 225ms/step - loss: 0.0022\n",
      "Epoch 25/50\n",
      "96/96 [==============================] - 22s 229ms/step - loss: 0.0024\n",
      "Epoch 26/50\n",
      "96/96 [==============================] - 26s 274ms/step - loss: 0.0023\n",
      "Epoch 27/50\n",
      "96/96 [==============================] - 22s 229ms/step - loss: 0.0025\n",
      "Epoch 28/50\n",
      "96/96 [==============================] - 22s 229ms/step - loss: 0.0022\n",
      "Epoch 29/50\n",
      "96/96 [==============================] - 23s 240ms/step - loss: 0.0023\n",
      "Epoch 30/50\n",
      "96/96 [==============================] - 24s 252ms/step - loss: 0.0020\n",
      "Epoch 31/50\n",
      "96/96 [==============================] - 25s 261ms/step - loss: 0.0022\n",
      "Epoch 32/50\n",
      "96/96 [==============================] - 24s 246ms/step - loss: 0.0021\n",
      "Epoch 33/50\n",
      "96/96 [==============================] - 23s 242ms/step - loss: 0.0019\n",
      "Epoch 34/50\n",
      "96/96 [==============================] - 27s 280ms/step - loss: 0.0021\n",
      "Epoch 35/50\n",
      "96/96 [==============================] - 21s 224ms/step - loss: 0.0020\n",
      "Epoch 36/50\n",
      "96/96 [==============================] - 21s 222ms/step - loss: 0.0023\n",
      "Epoch 37/50\n",
      "96/96 [==============================] - 22s 226ms/step - loss: 0.0023\n",
      "Epoch 38/50\n",
      "96/96 [==============================] - 25s 256ms/step - loss: 0.0021\n",
      "Epoch 39/50\n",
      "96/96 [==============================] - 27s 277ms/step - loss: 0.0022\n",
      "Epoch 40/50\n",
      "96/96 [==============================] - 62s 653ms/step - loss: 0.0021\n",
      "Epoch 41/50\n",
      "96/96 [==============================] - 58s 601ms/step - loss: 0.0021\n",
      "Epoch 42/50\n",
      "96/96 [==============================] - 47s 490ms/step - loss: 0.0020\n",
      "Epoch 43/50\n",
      "96/96 [==============================] - 41s 425ms/step - loss: 0.0024\n",
      "Epoch 44/50\n",
      "96/96 [==============================] - 16s 163ms/step - loss: 0.0019\n",
      "Epoch 45/50\n",
      "96/96 [==============================] - 18s 185ms/step - loss: 0.0021\n",
      "Epoch 46/50\n",
      "96/96 [==============================] - 18s 192ms/step - loss: 0.0019\n",
      "Epoch 47/50\n",
      "96/96 [==============================] - 19s 199ms/step - loss: 0.0020\n",
      "Epoch 48/50\n",
      "96/96 [==============================] - 20s 213ms/step - loss: 0.0020\n",
      "Epoch 49/50\n",
      "96/96 [==============================] - 33s 340ms/step - loss: 0.0019\n",
      "Epoch 50/50\n",
      "96/96 [==============================] - 40s 417ms/step - loss: 0.0022\n"
     ]
    },
    {
     "data": {
      "text/plain": [
       "<keras.callbacks.History at 0x7f80062bbc10>"
      ]
     },
     "execution_count": 15,
     "metadata": {},
     "output_type": "execute_result"
    }
   ],
   "source": [
    "model.compile(optimizer='adam',loss='mean_squared_error')\n",
    "model.fit(x_train,y_train,epochs=50)"
   ]
  },
  {
   "cell_type": "code",
   "execution_count": 16,
   "metadata": {},
   "outputs": [
    {
     "name": "stderr",
     "output_type": "stream",
     "text": [
      "<ipython-input-16-3385102fad31>:2: FutureWarning: The frame.append method is deprecated and will be removed from pandas in a future version. Use pandas.concat instead.\n",
      "  final_df=prev100.append(test,ignore_index=True)\n"
     ]
    }
   ],
   "source": [
    "prev100=train\n",
    "final_df=prev100.append(test,ignore_index=True)"
   ]
  },
  {
   "cell_type": "code",
   "execution_count": 17,
   "metadata": {},
   "outputs": [
    {
     "data": {
      "text/plain": [
       "(3515, 1)"
      ]
     },
     "execution_count": 17,
     "metadata": {},
     "output_type": "execute_result"
    }
   ],
   "source": [
    "input_data=scaler.fit_transform(final_df)\n",
    "input_data.shape"
   ]
  },
  {
   "cell_type": "code",
   "execution_count": 18,
   "metadata": {},
   "outputs": [
    {
     "name": "stdout",
     "output_type": "stream",
     "text": [
      "(3415, 100, 1)\n",
      "(3415,)\n",
      "107/107 [==============================] - 6s 46ms/step\n"
     ]
    }
   ],
   "source": [
    "x_test=[]\n",
    "y_test=[]\n",
    "\n",
    "for i in range(100,input_data.shape[0]):\n",
    "    x_test.append(input_data[i-100:i])\n",
    "    y_test.append(input_data[i,0])\n",
    "x_test,y_test=np.array(x_test),np.array(y_test)\n",
    "print(x_test.shape)\n",
    "print(y_test.shape)\n",
    "y_pred=model.predict(x_test)"
   ]
  },
  {
   "cell_type": "code",
   "execution_count": 19,
   "metadata": {},
   "outputs": [
    {
     "data": {
      "text/plain": [
       "(3415, 1)"
      ]
     },
     "execution_count": 19,
     "metadata": {},
     "output_type": "execute_result"
    }
   ],
   "source": [
    "y_pred.shape"
   ]
  },
  {
   "cell_type": "code",
   "execution_count": 20,
   "metadata": {},
   "outputs": [
    {
     "data": {
      "text/plain": [
       "array([0.00244549])"
      ]
     },
     "execution_count": 20,
     "metadata": {},
     "output_type": "execute_result"
    }
   ],
   "source": [
    "scaler.scale_"
   ]
  },
  {
   "cell_type": "code",
   "execution_count": 21,
   "metadata": {},
   "outputs": [],
   "source": [
    "scale_f=1/float(scaler.scale_)\n",
    "y_pred=y_pred*scale_f\n",
    "y_test=y_pred*scale_f"
   ]
  },
  {
   "cell_type": "code",
   "execution_count": 22,
   "metadata": {},
   "outputs": [
    {
     "data": {
      "image/png": "[encoded data removed]",
      "text/plain": [
       "<Figure size 1200x600 with 1 Axes>"
      ]
     },
     "metadata": {},
     "output_type": "display_data"
    },
    {
     "data": {
      "image/png": "[encoded data removed]",
      "text/plain": [
       "<Figure size 1200x600 with 1 Axes>"
      ]
     },
     "metadata": {},
     "output_type": "display_data"
    }
   ],
   "source": [
    "plt.figure(figsize=(12,6))\n",
    "plt.plot(y_test,'green',label='Original')\n",
    "plt.plot(y_pred,'purple',label='Prediction')\n",
    "plt.xlabel('Time')\n",
    "plt.ylabel('Price')\n",
    "plt.legend()\n",
    "plt.show()"
   ]
  },
  {
   "cell_type": "code",
   "execution_count": 22,
   "metadata": {},
   "outputs": [],
   "source": [
    "model.save('keras_model.h5')"
   ]
  },
  {
   "cell_type": "code",
   "execution_count": null,
   "metadata": {},
   "outputs": [],
   "source": []
  }
 ],
 "metadata": {
  "kernelspec": {
   "display_name": "Python 3.9.0 64-bit",
   "language": "python",
   "name": "python3"
  },
  "language_info": {
   "codemirror_mode": {
    "name": "ipython",
    "version": 3
   },
   "file_extension": ".py",
   "mimetype": "text/x-python",
   "name": "python",
   "nbconvert_exporter": "python",
   "pygments_lexer": "ipython3",
   "version": "3.9.0"
  },
  "orig_nbformat": 4,
  "vscode": {
   "interpreter": {
    "hash": "aee8b7b246df8f9039afb4144a1f6fd8d2ca17a180786b69acc140d282b71a49"
   }
  }
 },
 "nbformat": 4,
 "nbformat_minor": 2
}
